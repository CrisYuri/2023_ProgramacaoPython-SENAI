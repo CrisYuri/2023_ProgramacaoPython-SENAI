{
 "cells": [
  {
   "cell_type": "markdown",
   "metadata": {},
   "source": [
    "### Tabuada"
   ]
  },
  {
   "cell_type": "code",
   "execution_count": 5,
   "metadata": {},
   "outputs": [],
   "source": [
    "def tabuada(x):\n",
    "    tabuada = []\n",
    "    for i in range(1, 11):\n",
    "        tabuada.append(str(x) + ' x ' + str(i) + ' = ' + str(x*i))\n",
    "    return tabuada"
   ]
  },
  {
   "cell_type": "code",
   "execution_count": 6,
   "metadata": {},
   "outputs": [
    {
     "data": {
      "text/plain": [
       "['7 x 1 = 7',\n",
       " '7 x 2 = 14',\n",
       " '7 x 3 = 21',\n",
       " '7 x 4 = 28',\n",
       " '7 x 5 = 35',\n",
       " '7 x 6 = 42',\n",
       " '7 x 7 = 49',\n",
       " '7 x 8 = 56',\n",
       " '7 x 9 = 63',\n",
       " '7 x 10 = 70']"
      ]
     },
     "execution_count": 6,
     "metadata": {},
     "output_type": "execute_result"
    }
   ],
   "source": [
    "tabuada(7)"
   ]
  },
  {
   "cell_type": "markdown",
   "metadata": {},
   "source": [
    "### Média"
   ]
  },
  {
   "cell_type": "code",
   "execution_count": 2,
   "metadata": {},
   "outputs": [],
   "source": [
    "def media(valores):\n",
    "    soma = 0\n",
    "    for i in range(0, len(valores)):\n",
    "        soma += valores[i]\n",
    "    return soma/len(valores)"
   ]
  },
  {
   "cell_type": "code",
   "execution_count": 5,
   "metadata": {},
   "outputs": [
    {
     "name": "stdout",
     "output_type": "stream",
     "text": [
      "A média de 4, 5, 6, 7,  é 5.50\n"
     ]
    }
   ],
   "source": [
    "x = [4,5,6,7]\n",
    "media(x)\n",
    "print('A média de ', end='')\n",
    "for valor in x:\n",
    "    print(f'{valor}, ', end='')\n",
    "print(' é {:.02f}'.format(media(x)))"
   ]
  },
  {
   "cell_type": "markdown",
   "metadata": {},
   "source": [
    "### Média\n",
    "##### usando *args"
   ]
  },
  {
   "cell_type": "code",
   "execution_count": 12,
   "metadata": {},
   "outputs": [],
   "source": [
    "def media2(*args):\n",
    "    soma = 0\n",
    "    for i in args:\n",
    "        soma += i\n",
    "    return soma/len(args)"
   ]
  },
  {
   "cell_type": "code",
   "execution_count": 13,
   "metadata": {},
   "outputs": [
    {
     "name": "stdout",
     "output_type": "stream",
     "text": [
      "A média é 6.00\n"
     ]
    }
   ],
   "source": [
    "print('A média é {:.02f}'.format(media2(4, 5, 6, 7, 8)))"
   ]
  },
  {
   "cell_type": "markdown",
   "metadata": {},
   "source": [
    "### Fatorial\n",
    "##### Laço de repetição"
   ]
  },
  {
   "cell_type": "code",
   "execution_count": 1,
   "metadata": {},
   "outputs": [],
   "source": [
    "def fatorial(n):\n",
    "    fat = 1\n",
    "    for i in range(1, n+1):\n",
    "        fat *= i\n",
    "    return fat"
   ]
  },
  {
   "cell_type": "code",
   "execution_count": 2,
   "metadata": {},
   "outputs": [
    {
     "data": {
      "text/plain": [
       "120"
      ]
     },
     "execution_count": 2,
     "metadata": {},
     "output_type": "execute_result"
    }
   ],
   "source": [
    "fatorial(5)"
   ]
  },
  {
   "cell_type": "markdown",
   "metadata": {},
   "source": [
    "### Fatorial\n",
    "##### Recursivo"
   ]
  },
  {
   "cell_type": "code",
   "execution_count": 3,
   "metadata": {},
   "outputs": [],
   "source": [
    "def fat_recursivo(n):\n",
    "    if n> 1:\n",
    "        fat = n * fat_recursivo(n-1)\n",
    "        return fat\n",
    "    else:\n",
    "        return 1"
   ]
  },
  {
   "cell_type": "code",
   "execution_count": 4,
   "metadata": {},
   "outputs": [
    {
     "data": {
      "text/plain": [
       "120"
      ]
     },
     "execution_count": 4,
     "metadata": {},
     "output_type": "execute_result"
    }
   ],
   "source": [
    "fat_recursivo(5)"
   ]
  },
  {
   "cell_type": "markdown",
   "metadata": {},
   "source": [
    "### Bubble Sorting"
   ]
  },
  {
   "cell_type": "code",
   "execution_count": 10,
   "metadata": {},
   "outputs": [
    {
     "name": "stdout",
     "output_type": "stream",
     "text": [
      "\n",
      "\t\t\t -- Bubble Sorting -- \n",
      "\n",
      "3, 5, 8, 34, "
     ]
    }
   ],
   "source": [
    "#  Implementação do algoritmo de ordenação Bubble Sorting\n",
    "\n",
    "# Apresentação\n",
    "print('\\n\\t\\t\\t -- Bubble Sorting -- \\n')\n",
    "\n",
    "n = []\n",
    "\n",
    "# Entrada\n",
    "qtd = int(input('Quantos números você deseja ordenar? '))\n",
    "\n",
    "for i in range(0, qtd):\n",
    "    n.append(int(input('Informe o {}º valor: '.format((i+1)))))\n",
    "\n",
    "# Processamento\n",
    "for i in range (0, len(n)-1):\n",
    "    for j in range((i+1), qtd):\n",
    "        if n[i] > n[j]:\n",
    "            swap = n[j] # SWAP é um espaço para reposicionar os valores - uma variável temporária\n",
    "            n[j] = n[i]\n",
    "            n[i] = swap # essa é a mesma forma utilizada para lidar com ponteiros de uma lista encadeada\n",
    "\n",
    "''' \n",
    "Outras maneiras de implementar swap -> \n",
    "https://www.freecodecamp.org/news/swapping-values-of-two-variables-without-a-temporary-variable-in-python/\n",
    "'''\n",
    "\n",
    "# Saída\n",
    "for i in range(0, len(n)):\n",
    "    if i < len(n) +1:\n",
    "        print('{}, '.format(n[i]), end='')\n",
    "    else:\n",
    "        print('{}.'.format(n[i]), end='')"
   ]
  },
  {
   "cell_type": "markdown",
   "metadata": {},
   "source": [
    "### Validador de CPF"
   ]
  },
  {
   "cell_type": "code",
   "execution_count": 10,
   "metadata": {},
   "outputs": [
    {
     "name": "stdout",
     "output_type": "stream",
     "text": [
      "CPF válido!\n",
      "CPF inválido!\n",
      "CPF válido!\n",
      "CPF inválido!\n"
     ]
    }
   ],
   "source": [
    "def validadorCPF(cpf):\n",
    "    # variáveis\n",
    "    soma = 0\n",
    "    cont = 10\n",
    "    dv = 0\n",
    "\n",
    "    if (len(cpf) == 11):\n",
    "        for i in range(0,9):\n",
    "            soma += int(cpf[i]) * cont\n",
    "            cont -= 1\n",
    "\n",
    "        resto = soma % 11\n",
    "\n",
    "        if resto >= 2:\n",
    "            dv = 11 - resto\n",
    "        else:\n",
    "            dv = 0\n",
    "        \n",
    "        if int(cpf[9]) == dv:\n",
    "\n",
    "            # reinicialização das variáveis\n",
    "            cont = 11\n",
    "            soma = 0\n",
    "\n",
    "            for i in range(0, 10):\n",
    "                soma += int(cpf[i]) * cont\n",
    "                cont -= 1\n",
    "            resto = soma % 11\n",
    "\n",
    "            if resto >= 2:\n",
    "                dv = 11 - resto\n",
    "            else: \n",
    "                dv = 0\n",
    "\n",
    "            if int(cpf[10]) == dv:\n",
    "                return True\n",
    "            else:\n",
    "                return False\n",
    "        else:\n",
    "            return False\n",
    "    else:\n",
    "        return False\n",
    "    \n",
    "\n",
    "# Teste Validador de CPF\n",
    "print('CPF válido!') if validadorCPF('54647142949') else print('CPF inválido!')\n",
    "print('CPF válido!') if validadorCPF('54747142949') else print('CPF inválido!')\n",
    "print('CPF válido!') if validadorCPF('17824630706') else print('CPF inválido!')\n",
    "print('CPF válido!') if validadorCPF('17824630806') else print('CPF inválido!')\n"
   ]
  }
 ],
 "metadata": {
  "kernelspec": {
   "display_name": "sandbox01",
   "language": "python",
   "name": "python3"
  },
  "language_info": {
   "codemirror_mode": {
    "name": "ipython",
    "version": 3
   },
   "file_extension": ".py",
   "mimetype": "text/x-python",
   "name": "python",
   "nbconvert_exporter": "python",
   "pygments_lexer": "ipython3",
   "version": "3.11.5"
  }
 },
 "nbformat": 4,
 "nbformat_minor": 2
}
