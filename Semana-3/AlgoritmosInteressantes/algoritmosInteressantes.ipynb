{
 "cells": [
  {
   "cell_type": "markdown",
   "metadata": {},
   "source": [
    "### Tabuada"
   ]
  },
  {
   "cell_type": "code",
   "execution_count": 5,
   "metadata": {},
   "outputs": [],
   "source": [
    "def tabuada(x):\n",
    "    tabuada = []\n",
    "    for i in range(1, 11):\n",
    "        tabuada.append(str(x) + ' x ' + str(i) + ' = ' + str(x*i))\n",
    "    return tabuada"
   ]
  },
  {
   "cell_type": "code",
   "execution_count": 6,
   "metadata": {},
   "outputs": [
    {
     "data": {
      "text/plain": [
       "['7 x 1 = 7',\n",
       " '7 x 2 = 14',\n",
       " '7 x 3 = 21',\n",
       " '7 x 4 = 28',\n",
       " '7 x 5 = 35',\n",
       " '7 x 6 = 42',\n",
       " '7 x 7 = 49',\n",
       " '7 x 8 = 56',\n",
       " '7 x 9 = 63',\n",
       " '7 x 10 = 70']"
      ]
     },
     "execution_count": 6,
     "metadata": {},
     "output_type": "execute_result"
    }
   ],
   "source": [
    "tabuada(7)"
   ]
  },
  {
   "cell_type": "markdown",
   "metadata": {},
   "source": [
    "### Média"
   ]
  },
  {
   "cell_type": "code",
   "execution_count": 7,
   "metadata": {},
   "outputs": [],
   "source": [
    "def media(valores):\n",
    "    soma = 0\n",
    "    for i in range(0, len(valores)):\n",
    "        soma += valores[i]\n",
    "    return soma/len(valores)"
   ]
  },
  {
   "cell_type": "code",
   "execution_count": 17,
   "metadata": {},
   "outputs": [
    {
     "name": "stdout",
     "output_type": "stream",
     "text": [
      "A média de 456710 é 6\n"
     ]
    }
   ],
   "source": [
    "x = [4,5,6,7,10]\n",
    "media(x)\n",
    "print('A média de ', end='')\n",
    "for valor in x:\n",
    "    print(f'{valor}', end='')\n",
    "print(' é {:.0f}'.format(media(x)))"
   ]
  },
  {
   "cell_type": "markdown",
   "metadata": {},
   "source": [
    "### Fatorial\n",
    "##### Laço de repetição"
   ]
  },
  {
   "cell_type": "code",
   "execution_count": 1,
   "metadata": {},
   "outputs": [],
   "source": [
    "def fatorial(n):\n",
    "    fat = 1\n",
    "    for i in range(1, n+1):\n",
    "        fat *= i\n",
    "    return fat"
   ]
  },
  {
   "cell_type": "code",
   "execution_count": 2,
   "metadata": {},
   "outputs": [
    {
     "data": {
      "text/plain": [
       "120"
      ]
     },
     "execution_count": 2,
     "metadata": {},
     "output_type": "execute_result"
    }
   ],
   "source": [
    "fatorial(5)"
   ]
  },
  {
   "cell_type": "markdown",
   "metadata": {},
   "source": [
    "### Fatorial\n",
    "##### Recursivo"
   ]
  },
  {
   "cell_type": "code",
   "execution_count": 3,
   "metadata": {},
   "outputs": [],
   "source": [
    "def fat_recursivo(n):\n",
    "    if n> 1:\n",
    "        fat = n * fat_recursivo(n-1)\n",
    "        return fat\n",
    "    else:\n",
    "        return 1"
   ]
  },
  {
   "cell_type": "code",
   "execution_count": 4,
   "metadata": {},
   "outputs": [
    {
     "data": {
      "text/plain": [
       "120"
      ]
     },
     "execution_count": 4,
     "metadata": {},
     "output_type": "execute_result"
    }
   ],
   "source": [
    "fat_recursivo(5)"
   ]
  }
 ],
 "metadata": {
  "kernelspec": {
   "display_name": "sandbox01",
   "language": "python",
   "name": "python3"
  },
  "language_info": {
   "codemirror_mode": {
    "name": "ipython",
    "version": 3
   },
   "file_extension": ".py",
   "mimetype": "text/x-python",
   "name": "python",
   "nbconvert_exporter": "python",
   "pygments_lexer": "ipython3",
   "version": "3.11.5"
  }
 },
 "nbformat": 4,
 "nbformat_minor": 2
}
