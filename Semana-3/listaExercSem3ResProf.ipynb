{
 "cells": [
  {
   "cell_type": "markdown",
   "metadata": {},
   "source": [
    "## Exercício 2 - estação do ano"
   ]
  },
  {
   "cell_type": "code",
   "execution_count": 1,
   "metadata": {},
   "outputs": [
    {
     "name": "stdout",
     "output_type": "stream",
     "text": [
      "\n",
      "\t\t\t -- Estações do ano --\n",
      "\n",
      "OUTONO\n"
     ]
    }
   ],
   "source": [
    "# Sistema de informação para retornar a estação do ano levando em consideração somente o mês\n",
    "\n",
    "# Apresentação\n",
    "print('\\n\\t\\t\\t -- Estações do ano --\\n')\n",
    "\n",
    "# Entrada\n",
    "dia = int(input('Informe o dia: '))\n",
    "mes = int(input('Informe o mês: '))\n",
    "\n",
    "# Processamento e Saida\n",
    "if mes in (1, 2, 3):\n",
    "    print('VERÃO')\n",
    "elif mes in (4, 5, 6):\n",
    "    print('OUTONO')\n",
    "elif mes in (7, 8, 9):\n",
    "    print('INVERNO')\n",
    "elif mes in (10, 11, 12):\n",
    "    print('PRIMAVERA')\n",
    "else:\n",
    "    print('Mes incorreto')\n"
   ]
  },
  {
   "cell_type": "code",
   "execution_count": null,
   "metadata": {},
   "outputs": [],
   "source": [
    "# Sistema de informação para retornar a estação do ano levando em consideração o dia e mês\n",
    "\n",
    "# Apresentação\n",
    "print('\\n\\t\\t\\t -- Estações do ano --\\n')\n",
    "\n",
    "# Entrada\n",
    "dia = int(input('Informe o dia: '))\n",
    "mes = int(input('Informe o mês: '))\n",
    "\n",
    "# Processamento e Saida\n",
    "if mes in (1, 2, 3):\n",
    "    if(mes == 3 and dia >= 20):\n",
    "        print('OUTONO')\n",
    "    else:\n",
    "        print('VERÃO')\n",
    "elif mes in (4, 5, 6):\n",
    "    if (mes == 6 and dia >= 21):\n",
    "        print('INVERNO')\n",
    "    else:\n",
    "        print('OUTONO')\n",
    "elif mes in (7, 8, 9):\n",
    "    if (mes == 9 and dia >= 23):\n",
    "        print('PRIMAVERA')\n",
    "    else:\n",
    "        print('INVERNO')\n",
    "elif mes in (10, 11, 12):\n",
    "    if (mes == 12 and dia >= 22):\n",
    "        print('VERÃO')\n",
    "    else:\n",
    "        print('PRIMAVERA')\n",
    "else:\n",
    "    print('Mes incorreto')\n"
   ]
  }
 ],
 "metadata": {
  "kernelspec": {
   "display_name": "sandbox01",
   "language": "python",
   "name": "python3"
  },
  "language_info": {
   "codemirror_mode": {
    "name": "ipython",
    "version": 3
   },
   "file_extension": ".py",
   "mimetype": "text/x-python",
   "name": "python",
   "nbconvert_exporter": "python",
   "pygments_lexer": "ipython3",
   "version": "3.11.5"
  }
 },
 "nbformat": 4,
 "nbformat_minor": 2
}
