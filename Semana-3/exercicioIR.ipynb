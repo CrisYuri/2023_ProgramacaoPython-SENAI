{
 "cells": [
  {
   "cell_type": "code",
   "execution_count": 7,
   "metadata": {},
   "outputs": [
    {
     "name": "stdout",
     "output_type": "stream",
     "text": [
      "Salário bruto: R$ 2000.00\n",
      "Dependentes: 1\n",
      "Salário base: R$ 1810.41\n",
      "Alíquota: 0%\n",
      "Imposto devido: R$ 0.00\n",
      "Salário líquido: R$ 2000.00\n",
      "Alíquota efetiva: 0.00%\n"
     ]
    }
   ],
   "source": [
    "# Calculadora Imposto de Renda v.1 - até abril/2023\n",
    "\n",
    "# Entrada\n",
    "salBruto = float(input('Salário bruto R$: '))\n",
    "dependentes = int(input('Dependentes: '))\n",
    "\n",
    "# Processamento\n",
    "\n",
    "## Encontrar salário base\n",
    "descDependente = dependentes * 189.59\n",
    "salBase = salBruto - descDependente\n",
    "\n",
    "## Encontrar faixa de IR, dedução pela faixa do salário base\n",
    "if salBase < 1903.99:\n",
    "    faixa = 0\n",
    "    aliq = '0%'\n",
    "    deducao = 0\n",
    "elif salBase < 2826.66:\n",
    "    faixa = 0.075\n",
    "    aliq = '7.5%'\n",
    "    deducao = 142.80\n",
    "elif salBase < 3751.06:\n",
    "    faixa = 0.15\n",
    "    aliq = '15%'\n",
    "    deducao = 354.80\n",
    "elif salBase < 4664.68:\n",
    "    faixa = 0.225\n",
    "    aliq = '22.5%'\n",
    "    deducao = 636.13\n",
    "else:\n",
    "    faixa = 0.275\n",
    "    aliq = '27.5%'\n",
    "    deducao = 869.36\n",
    "\n",
    "## Calcular o imposto bruto, IR devido, alíquota efetiva e salário líquido\n",
    "irBruto = salBase * faixa\n",
    "irDevido = irBruto - deducao\n",
    "aliqEfetiva = irDevido / salBruto\n",
    "salLiq = salBruto - irDevido\n",
    "\n",
    "# Saída\n",
    "print(f'Salário bruto: R$ {salBruto:.2f}')\n",
    "print(f'Dependentes: {dependentes}')\n",
    "print(f'Salário base: R$ {salBase:.2f}')\n",
    "print(f'Alíquota: {aliq}') # Shorthand if para isento\n",
    "print(f'Imposto devido: R$ {irDevido:.2f}') # Shorthand if para isento\n",
    "print(f'Salário líquido: R$ {salLiq:.2f}')\n",
    "print(f'Alíquota efetiva: {(aliqEfetiva * 100):.2f}%') # Shorthand if para isento\n"
   ]
  }
 ],
 "metadata": {
  "kernelspec": {
   "display_name": "sandbox01",
   "language": "python",
   "name": "python3"
  },
  "language_info": {
   "codemirror_mode": {
    "name": "ipython",
    "version": 3
   },
   "file_extension": ".py",
   "mimetype": "text/x-python",
   "name": "python",
   "nbconvert_exporter": "python",
   "pygments_lexer": "ipython3",
   "version": "3.11.5"
  }
 },
 "nbformat": 4,
 "nbformat_minor": 2
}
