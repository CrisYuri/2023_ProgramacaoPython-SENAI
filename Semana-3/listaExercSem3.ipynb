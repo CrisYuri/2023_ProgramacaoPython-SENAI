{
 "cells": [
  {
   "cell_type": "markdown",
   "metadata": {},
   "source": [
    "### Exercício 1 - Ano bissexto (Divisível por 4 e anos terminados em 00 múltiplos de 400, 2000 é bissexto)"
   ]
  },
  {
   "cell_type": "code",
   "execution_count": 11,
   "metadata": {},
   "outputs": [
    {
     "name": "stdout",
     "output_type": "stream",
     "text": [
      "O ano 2100 NÃO é bissexto\n"
     ]
    }
   ],
   "source": [
    "ano = int(input('Digite um ano para saber se ele é um ano bissexto: '))\n",
    "          \n",
    "if  (ano % 400 == 0) or ((ano % 4 == 0) and (ano % 100 != 0)) :\n",
    "    print(f'O ano {ano} é bissexto')\n",
    "else:\n",
    "    print(f'O ano {ano} NÃO é bissexto')\n",
    "    "
   ]
  },
  {
   "cell_type": "markdown",
   "metadata": {},
   "source": [
    "### Exercício 2a - Estação do ano (considerando somente mês)"
   ]
  },
  {
   "cell_type": "code",
   "execution_count": 2,
   "metadata": {},
   "outputs": [
    {
     "name": "stdout",
     "output_type": "stream",
     "text": [
      "Para saber a estação do ano digite um dia e um mês\n",
      "Data digitada errada!\n",
      "No dia 23 de d é INVERNO\n"
     ]
    }
   ],
   "source": [
    "print('Para saber a estação do ano digite um dia e um mês')\n",
    "\n",
    "dia = int(input('Digite um dia (ex.: 25): '))\n",
    "mes = input('Digite um mês (ex.: dezembro): ')\n",
    "   \n",
    "    # opção 1\n",
    "if mes.lower() in ('janeiro', 'fevereiro', 'março'):\n",
    "    print(f'No dia {dia} de {mes} é VERÃO')\n",
    "elif mes.lower() in ('abril', 'maio', 'junho'):\n",
    "    print(f'No dia {dia} de {mes} é OUTONO')\n",
    "elif mes.lower() in ('julho', 'agosto', 'setembro'):\n",
    "    print(f'No dia {dia} de {mes} é INVERNO')\n",
    "elif mes.lower() in ('outubro', 'novembro', 'dezembro'):\n",
    "    print(f'No dia {dia} de {mes} é PRIMAVERA')\n",
    "else:\n",
    "    print('Data digitada errada!')\n",
    "\n",
    "    # opção 2 \n",
    "# if 'janeiro' == mes.lower() or 'fevereiro' == mes.lower() or 'março' == mes.lower():\n",
    "#     print(f'No dia {dia} de {mes} é VERÃO')\n",
    "# elif 'abril'  == mes.lower() or 'maio' == mes.lower() or 'junho' == mes.lower():\n",
    "#     print(f'No dia {dia} de {mes} é OUTONO')\n",
    "# elif 'julho' == mes.lower() or 'agosto' == mes.lower() or 'setembro' == mes.lower():\n",
    "#     print(f'No dia {dia} de {mes} é INVERNO')\n",
    "# elif 'outubro' == mes.lower() or 'novembro' == mes.lower() or 'dezembro' == mes.lower():\n",
    "#     print(f'No dia {dia} de {mes} é PRIMAVERA')\n",
    "# else:\n",
    "#     print('Data digitada errada!')\n"
   ]
  },
  {
   "cell_type": "markdown",
   "metadata": {},
   "source": [
    "### Exercíco 2b - Estação do ano (considerando dia E mês)"
   ]
  },
  {
   "cell_type": "code",
   "execution_count": 65,
   "metadata": {},
   "outputs": [
    {
     "name": "stdout",
     "output_type": "stream",
     "text": [
      "Para saber a estação do ano digite um dia e um mês\n",
      "No dia 21 de dezembro é PRIMAVERA\n"
     ]
    }
   ],
   "source": [
    "print('Para saber a estação do ano de 2023, digite um dia e um mês')\n",
    "\n",
    "dia = int(input('Digite um dia (ex.: 25): '))\n",
    "mes = input('Digite um mês (ex.: dezembro): ')\n",
    "   \n",
    "if ((dia >= 22) and (mes.lower() == 'dezembro')) or ((dia < 20) and mes.lower() == 'março') or mes.lower() in ('janeiro', 'fevereiro'):\n",
    "    print(f'No dia {dia} de {mes} é VERÃO')\n",
    "elif ((dia >= 20) and (mes.lower() == 'março')) or ((dia < 21) and mes.lower() == 'junho') or mes.lower() in ('abril', 'maio'):\n",
    "    print(f'No dia {dia} de {mes} é OUTONO')\n",
    "elif ((dia >= 21) and (mes.lower() == 'junho')) or ((dia < 23) and mes.lower() == 'setembro') or mes.lower() in ('julho', 'agosto'):\n",
    "    print(f'No dia {dia} de {mes} é INVERNO')\n",
    "elif ((dia >= 23) and (mes.lower() == 'setembro')) or ((dia < 22) and mes.lower() == 'dezembro') or mes.lower() in ('outubro', 'novembro'):\n",
    "    print(f'No dia {dia} de {mes} é PRIMAVERA')\n",
    "else:\n",
    "    print('Data digitada errada!')\n"
   ]
  },
  {
   "cell_type": "code",
   "execution_count": 67,
   "metadata": {},
   "outputs": [
    {
     "name": "stdout",
     "output_type": "stream",
     "text": [
      "Para saber a estação do ano, digite um dia e um mês\n",
      "No dia 30 de fevereiro é Verão\n"
     ]
    }
   ],
   "source": [
    "# Alternativa usando funcões...\n",
    "\n",
    "def obter_estacao(dia, mes):\n",
    "    estacoes = [\n",
    "        (3, 20),  # (Início da Primavera)\n",
    "        (6, 21),  # (Início do Verão)\n",
    "        (9, 22),  # (Início do Outono)\n",
    "        (12, 21)  # (Início do Inverno)\n",
    "    ]\n",
    "\n",
    "    # Converter nome do mês para número em um dicionário\n",
    "    meses = {\n",
    "        'janeiro': 1, 'fevereiro': 2, 'março': 3, 'abril': 4,\n",
    "        'maio': 5, 'junho': 6, 'julho': 7, 'agosto': 8,\n",
    "        'setembro': 9, 'outubro': 10, 'novembro': 11, 'dezembro': 12\n",
    "    }\n",
    "\n",
    "    # Verificar se o mês é válido\n",
    "    if mes.lower() not in meses:\n",
    "        return 'Mês inválido'\n",
    "\n",
    "    mes_num = meses[mes.lower()] # Busca no dicionário de meses o número correspondente ao mês \n",
    "\n",
    "    for data_x, (mes_inicio, dia_limite) in enumerate(estacoes):\n",
    "        # Verificar se a data está na estação atual\n",
    "        if (\n",
    "            (mes_num == mes_inicio and dia >= dia_limite) or\n",
    "            (mes_num > mes_inicio) or\n",
    "            (data_x == len(estacoes) - 1 and mes_num < mes_inicio)\n",
    "        ):\n",
    "            return data_x\n",
    "\n",
    "    return 'Data digitada errada!'\n",
    "\n",
    "def imprimir_estacao(estacao, dia, mes):\n",
    "    estacoes = ['Outono', 'Inverno', 'Primavera', 'Verão']\n",
    "    if isinstance(estacao, int):\n",
    "        print(f'No dia {dia} de {mes} é {estacoes[estacao]}')\n",
    "    else:\n",
    "        print(estacao)\n",
    "\n",
    "print('Para saber a estação do ano, digite um dia e um mês')\n",
    "dia = int(input('Digite um dia (ex.: 25): '))\n",
    "mes = input('Digite um mês (ex.: dezembro): ')\n",
    "\n",
    "estacao = obter_estacao(dia, mes)\n",
    "imprimir_estacao(estacao, dia, mes)\n"
   ]
  },
  {
   "cell_type": "markdown",
   "metadata": {},
   "source": [
    "### Exercício 3 - Horóscopo"
   ]
  },
  {
   "cell_type": "code",
   "execution_count": 69,
   "metadata": {},
   "outputs": [
    {
     "name": "stdout",
     "output_type": "stream",
     "text": [
      "Para saber o signo do zodíaco, digite sua data de nascimento\n",
      "Seu signo do zodíaco é Virgem\n"
     ]
    }
   ],
   "source": [
    "print('Para saber o signo do zodíaco, digite sua data de nascimento')\n",
    "\n",
    "dia = int(input('Digite o dia (ex.: 25): '))\n",
    "mes = input('Digite o mês (ex.: janeiro): ')\n",
    "\n",
    "if (mes.lower() == 'dezembro' and dia >= 22) or (mes.lower() == 'janeiro' and dia <= 19):\n",
    "    signo = 'Capricórnio'\n",
    "elif (mes.lower() == 'janeiro' and dia >= 20) or (mes.lower() == 'fevereiro' and dia <= 18):\n",
    "    signo = 'Aquário'\n",
    "elif (mes.lower() == 'fevereiro' and dia >= 19) or (mes.lower() == 'março' and dia <= 20):\n",
    "    signo = 'Peixes'\n",
    "elif (mes.lower() == 'março' and dia >= 21) or (mes.lower() == 'abril' and dia <= 19):\n",
    "    signo = 'Áries'\n",
    "elif (mes.lower() == 'abril' and dia >= 20) or (mes.lower() == 'maio' and dia <= 20):\n",
    "    signo = 'Touro'\n",
    "elif (mes.lower() == 'maio' and dia >= 21) or (mes.lower() == 'junho' and dia <= 20):\n",
    "    signo = 'Gêmeos'\n",
    "elif (mes.lower() == 'junho' and dia >= 21) or (mes.lower() == 'julho' and dia <= 22):\n",
    "    signo = 'Câncer'\n",
    "elif (mes.lower() == 'julho' and dia >= 23) or (mes.lower() == 'agosto' and dia <= 22):\n",
    "    signo = 'Leão'\n",
    "elif (mes.lower() == 'agosto' and dia >= 23) or (mes.lower() == 'setembro' and dia <= 22):\n",
    "    signo = 'Virgem'\n",
    "elif (mes.lower() == 'setembro' and dia >= 23) or (mes.lower() == 'outubro' and dia <= 22):\n",
    "    signo = 'Libra'\n",
    "elif (mes.lower() == 'outubro' and dia >= 23) or (mes.lower() == 'novembro' and dia <= 21):\n",
    "    signo = 'Escorpião'\n",
    "else:\n",
    "    signo = 'Sagitário'\n",
    "\n",
    "print(f'Seu signo do zodíaco é {signo}')\n"
   ]
  },
  {
   "cell_type": "code",
   "execution_count": 70,
   "metadata": {},
   "outputs": [
    {
     "name": "stdout",
     "output_type": "stream",
     "text": [
      "Para saber o signo do zodíaco, digite sua data de nascimento\n",
      "Seu signo do zodíaco é Virgem\n"
     ]
    }
   ],
   "source": [
    "# Alternativa usando função...\n",
    "def determinar_signo(dia, mes):\n",
    "    signos = [\n",
    "        ('Capricórnio', (22, 12), (19, 1)),\n",
    "        ('Aquário', (20, 1), (18, 2)),\n",
    "        ('Peixes', (19, 2), (20, 3)),\n",
    "        ('Áries', (21, 3), (19, 4)),\n",
    "        ('Touro', (20, 4), (20, 5)),\n",
    "        ('Gêmeos', (21, 5), (20, 6)),\n",
    "        ('Câncer', (21, 6), (22, 7)),\n",
    "        ('Leão', (23, 7), (22, 8)),\n",
    "        ('Virgem', (23, 8), (22, 9)),\n",
    "        ('Libra', (23, 9), (22, 10)),\n",
    "        ('Escorpião', (23, 10), (21, 11)),\n",
    "        ('Sagitário', (22, 11), (21, 12))\n",
    "    ]\n",
    "\n",
    "    meses = {\n",
    "        'janeiro': 1, 'fevereiro': 2, 'março': 3, 'abril': 4,\n",
    "        'maio': 5, 'junho': 6, 'julho': 7, 'agosto': 8,\n",
    "        'setembro': 9, 'outubro': 10, 'novembro': 11, 'dezembro': 12\n",
    "    }\n",
    "\n",
    "    if mes.lower() not in meses:\n",
    "        return 'Mês inválido'\n",
    "\n",
    "    mes_num = meses[mes.lower()]\n",
    "\n",
    "    for signo, (inicio, mes_inicio), (fim, mes_fim) in signos:\n",
    "        if (mes_num == mes_inicio and dia >= inicio) or (mes_num == mes_fim and dia <= fim):\n",
    "            return signo\n",
    "\n",
    "    return 'Data de nascimento inválida'\n",
    "\n",
    "print('Para saber o signo do zodíaco, digite sua data de nascimento')\n",
    "dia = int(input('Digite o dia (ex.: 25): '))\n",
    "mes = input('Digite o mês (ex.: janeiro): ')\n",
    "\n",
    "signo = determinar_signo(dia, mes)\n",
    "print(f'Seu signo do zodíaco é {signo}')\n"
   ]
  }
 ],
 "metadata": {
  "kernelspec": {
   "display_name": "sandbox01",
   "language": "python",
   "name": "python3"
  },
  "language_info": {
   "codemirror_mode": {
    "name": "ipython",
    "version": 3
   },
   "file_extension": ".py",
   "mimetype": "text/x-python",
   "name": "python",
   "nbconvert_exporter": "python",
   "pygments_lexer": "ipython3",
   "version": "3.11.5"
  }
 },
 "nbformat": 4,
 "nbformat_minor": 2
}
